{
 "cells": [
  {
   "cell_type": "code",
   "execution_count": 2,
   "metadata": {},
   "outputs": [],
   "source": [
    "import numpy as np\n",
    "import pandas as pd\n",
    "import os\n",
    "from scipy.io import loadmat\n",
    "import scipy.io as sio\n",
    "from sklearn.utils import shuffle \n",
    "import matplotlib.pyplot as plt"
   ]
  },
  {
   "cell_type": "markdown",
   "metadata": {},
   "source": [
    "# Labels"
   ]
  },
  {
   "cell_type": "code",
   "execution_count": 3,
   "metadata": {},
   "outputs": [
    {
     "name": "stdout",
     "output_type": "stream",
     "text": [
      "[ 1  0 -1 -1  0  1 -1  0  1  1  0 -1  0  1 -1]\n"
     ]
    }
   ],
   "source": [
    "file_path = 'E:/STUDY/Publications/Thesis/Brain Emotion Detection/Dataset/Practice with datasets/Seed/label.mat'\n",
    "mat_data = sio.loadmat(file_path)\n",
    "#Explore Variable Names\n",
    "\n",
    "variable_names = mat_data.keys()\n",
    "labels = mat_data[\"label\"].flatten()\n",
    "\n",
    "print(labels)\n"
   ]
  },
  {
   "cell_type": "markdown",
   "metadata": {},
   "source": [
    "# Feature Extract of each trial and saving in .npy format"
   ]
  },
  {
   "cell_type": "markdown",
   "metadata": {},
   "source": [
    "EEG Bands\\\n",
    "0: delta: 1-3Hz\\\n",
    "1: theta: 4-7Hz\\\n",
    "2: alpha: 8-13Hz\\\n",
    "3: beta: 14-30Hz \\\n",
    "4: gamma: 31-50Hz"
   ]
  },
  {
   "cell_type": "code",
   "execution_count": 4,
   "metadata": {},
   "outputs": [],
   "source": [
    "def feature_extractor_to_npy(mat_folder, save_folder, Feature_type, labels):\n",
    "    trial_num = 1\n",
    "    \n",
    "    # Loop through all files in the folder\n",
    "    for filename in os.listdir(mat_folder):\n",
    "        if filename.endswith(\".mat\"):\n",
    "            mat_file = os.path.join(mat_folder, filename)\n",
    "            loaded_data = loadmat(mat_file)\n",
    "\n",
    "            # Extract human number from the filename\n",
    "            human_number = int(filename.split('_')[0])\n",
    "\n",
    "            # Loop through the variables in the loaded file\n",
    "            for i in range(1, 16):  # Assuming you want to loop from 1 to 15\n",
    "                var_name = f\"{Feature_type}{i}\"\n",
    "                if var_name in loaded_data and isinstance(loaded_data[var_name], np.ndarray) and len(loaded_data[var_name].shape) == 3:\n",
    "                    trial_data = loaded_data[var_name]\n",
    "                    label = labels[i - 1]  # Adjust index since it starts from 1\n",
    "                    np.save(os.path.join(save_folder, f\"subject_{human_number}_{trial_num}_{Feature_type}_label_({label}).npy\"), trial_data)\n",
    "                    trial_num += 1\n",
    "\n",
    "    print(\"Saving complete.\")\n"
   ]
  },
  {
   "cell_type": "code",
   "execution_count": 5,
   "metadata": {},
   "outputs": [
    {
     "name": "stdout",
     "output_type": "stream",
     "text": [
      "Saving complete.\n"
     ]
    }
   ],
   "source": [
    "# Example usage:\n",
    "mat_folder = \"E:/STUDY/Publications/Thesis/Brain Emotion Detection/Dataset/SEED/SEED_EEG/ExtractedFeatures\"\n",
    "save_folder = \"E:/STUDY/Publications/Thesis/Brain Emotion Detection/Dataset/Practice with datasets/Seed/de_LDS_Extracted/All Trials\"\n",
    "\n",
    "\n",
    "type = \"de_LDS\"\n",
    "feature_extractor_to_npy(mat_folder, save_folder, type, labels)"
   ]
  },
  {
   "cell_type": "markdown",
   "metadata": {},
   "source": [
    "# Ensemble in X & Y"
   ]
  },
  {
   "cell_type": "code",
   "execution_count": 10,
   "metadata": {},
   "outputs": [],
   "source": [
    "def ensemble_and_save(directory_path, output_path):\n",
    "    # Initialize arrays to store data sizes and maximum size\n",
    "    sizes = []\n",
    "    max_vals = 0\n",
    "\n",
    "    # Loop through all files in the folder\n",
    "    for filename in os.listdir(directory_path):\n",
    "        if filename.endswith(\".npy\"):\n",
    "            npy_file = os.path.join(directory_path, filename)\n",
    "            loaded_data = np.load(npy_file)\n",
    "            # Loop through the variables in the loaded file\n",
    "            sizes.append(loaded_data.shape[1])\n",
    "            max_vals = max(max_vals, loaded_data.shape[1])\n",
    "\n",
    "    #print(\"Maximum size:\", max_vals)\n",
    "\n",
    "    # Initialize arrays for features and labels\n",
    "    features = np.zeros((675, 62, max_vals, 5))\n",
    "    label_list = np.zeros(675)\n",
    "    trial = 0\n",
    "\n",
    "    # Loop through all files in the data folder\n",
    "    for filename in os.listdir(directory_path):\n",
    "        if filename.endswith(\".npy\"):\n",
    "            # Extract information from the filename\n",
    "            parts = filename.split('_')\n",
    "            subject_number = int(parts[1])\n",
    "            trial_number = int(parts[2])\n",
    "            feature_type = parts[3]\n",
    "            # Extracting the label and removing parentheses\n",
    "            label_str = parts[-1][:-4]  # Removing \".npy\" extension\n",
    "            label_str = label_str.replace('(', '').replace(')', '')  # Removing parentheses\n",
    "            label = int(label_str)\n",
    "\n",
    "            # Load the feature data\n",
    "            feature_data = np.load(os.path.join(directory_path, filename), allow_pickle=True)\n",
    "\n",
    "            # Add data and labels to the lists\n",
    "            features[trial, :62, :feature_data.shape[1], :] = feature_data\n",
    "            label_list[trial] = label\n",
    "\n",
    "            trial += 1\n",
    "\n",
    "    # Convert lists to NumPy arrays\n",
    "    X = np.array(features)\n",
    "    y = np.array(label_list)\n",
    "\n",
    "    # Save X and y to the specified output path\n",
    "    np.save(os.path.join(output_path, 'X.npy'), X)\n",
    "    np.save(os.path.join(output_path, 'y.npy'), y)\n",
    "\n",
    "    print(\"Saved successfully!\")\n",
    "\n",
    "\n"
   ]
  },
  {
   "cell_type": "code",
   "execution_count": 11,
   "metadata": {},
   "outputs": [
    {
     "name": "stdout",
     "output_type": "stream",
     "text": [
      "Saved successfully!\n"
     ]
    }
   ],
   "source": [
    "# Example usage\n",
    "data_directory = \"E:/STUDY/Publications/Thesis/Brain Emotion Detection/Dataset/Practice with datasets/Seed/de_LDS_Extracted/All Trials\"\n",
    "output_directory = \"E:/STUDY/Publications/Thesis/Brain Emotion Detection/Dataset/Practice with datasets/Seed/de_LDS_Extracted/X and Y\"\n",
    "ensemble_and_save(data_directory, output_directory)"
   ]
  }
 ],
 "metadata": {
  "kernelspec": {
   "display_name": "thesis_code_practice",
   "language": "python",
   "name": "python3"
  },
  "language_info": {
   "codemirror_mode": {
    "name": "ipython",
    "version": 3
   },
   "file_extension": ".py",
   "mimetype": "text/x-python",
   "name": "python",
   "nbconvert_exporter": "python",
   "pygments_lexer": "ipython3",
   "version": "3.10.6"
  }
 },
 "nbformat": 4,
 "nbformat_minor": 2
}
