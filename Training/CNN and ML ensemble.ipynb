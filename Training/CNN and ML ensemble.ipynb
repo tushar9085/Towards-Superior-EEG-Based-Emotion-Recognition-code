{
 "cells": [
  {
   "cell_type": "code",
   "execution_count": 1,
   "metadata": {},
   "outputs": [
    {
     "name": "stdout",
     "output_type": "stream",
     "text": [
      "WARNING:tensorflow:From e:\\STUDY\\Publications\\Thesis\\Brain Emotion Detection\\Code Practice\\thesis_code_practice\\lib\\site-packages\\keras\\src\\losses.py:2976: The name tf.losses.sparse_softmax_cross_entropy is deprecated. Please use tf.compat.v1.losses.sparse_softmax_cross_entropy instead.\n",
      "\n"
     ]
    }
   ],
   "source": [
    "import numpy as np\n",
    "import pandas as pd\n",
    "import tensorflow as tf\n",
    "from tensorflow import keras\n",
    "import numpy as np\n",
    "import scipy.io as sio\n",
    "from tensorflow.keras.utils import to_categorical\n",
    "from keras.callbacks import ReduceLROnPlateau\n",
    "import sklearn.metrics\n",
    "from sklearn.utils import shuffle \n",
    "from tensorflow.keras.layers import LSTM\n",
    "from tensorflow.keras.layers import Reshape\n",
    "from tensorflow.keras.models import Sequential\n",
    "from tensorflow.keras.layers import Conv2D, MaxPooling2D, Dense, Flatten, Dropout, Conv3D, MaxPooling3D, BatchNormalization\n",
    "import matplotlib.pyplot as plt\n",
    "from keras.models import load_model\n",
    "\n",
    "\n",
    "from sklearn.ensemble import VotingClassifier\n",
    "from sklearn.svm import SVC\n",
    "from sklearn.neighbors import KNeighborsClassifier\n",
    "from sklearn.tree import DecisionTreeClassifier\n",
    "from sklearn.naive_bayes import GaussianNB\n",
    "from sklearn.metrics import accuracy_score\n",
    "from sklearn.preprocessing import StandardScaler\n",
    "from tensorflow.keras.models import load_model"
   ]
  },
  {
   "cell_type": "code",
   "execution_count": 2,
   "metadata": {},
   "outputs": [],
   "source": [
    "X  = np.load(\"E:/STUDY/Publications/Coonference 1/Dataset/SEED_de_LDS_X_y/X.npy\")\n",
    "y  = np.load(\"E:/STUDY/Publications/Coonference 1/Dataset/SEED_de_LDS_X_y/y.npy\")"
   ]
  },
  {
   "cell_type": "code",
   "execution_count": 75,
   "metadata": {},
   "outputs": [],
   "source": [
    "data, labels_edited = shuffle(X, y)"
   ]
  },
  {
   "cell_type": "code",
   "execution_count": 76,
   "metadata": {},
   "outputs": [
    {
     "name": "stdout",
     "output_type": "stream",
     "text": [
      "Unique: [0. 1. 2.], Counts: [22 24 29]\n"
     ]
    }
   ],
   "source": [
    "max = np.max(data)\n",
    "min = np.min(data)\n",
    "\n",
    "#Normalizing data\n",
    "data = data/max\n",
    "data = (data - np.mean(data))/np.std(data)\n",
    "\n",
    "#Splitting Dataset into train, validation, test \n",
    "train_labels = labels_edited[0:550]\n",
    "test_labels = labels_edited[550:600]\n",
    "final_labels = labels_edited[600:675]\n",
    "\n",
    "train_data = data[0:550]\n",
    "test_data = data[550:600]\n",
    "final_test = data[600:675]\n",
    "\n",
    "\n",
    "\n",
    "cf_labels = np.where(final_labels== -1, 2, final_labels) #Label in the form for confusion matrix\n",
    "un, co = np.unique(cf_labels, return_counts=True)\n",
    "print(f'Unique: {un}, Counts: {co}')"
   ]
  },
  {
   "cell_type": "code",
   "execution_count": 77,
   "metadata": {},
   "outputs": [],
   "source": [
    "train_labels_reshaped = train_labels.reshape(-1,1) #Formatting for input to the CNN model\n",
    "test_labels_reshaped = test_labels.reshape(-1,1)\n",
    "final_labels_reshaped = final_labels.reshape(-1,1)"
   ]
  },
  {
   "cell_type": "code",
   "execution_count": 78,
   "metadata": {},
   "outputs": [],
   "source": [
    "train_labels_reshaped = to_categorical(train_labels_reshaped, 3) #One Hot Encoding\n",
    "test_labels_reshaped = to_categorical(test_labels_reshaped, 3)\n",
    "final_labels_reshaped = to_categorical(final_labels_reshaped, 3)"
   ]
  },
  {
   "cell_type": "code",
   "execution_count": 10,
   "metadata": {},
   "outputs": [
    {
     "name": "stdout",
     "output_type": "stream",
     "text": [
      "18/18 [==============================] - 16s 652ms/step\n",
      "3/3 [==============================] - 2s 432ms/step\n",
      "2/2 [==============================] - 1s 417ms/step\n",
      "Ensemble Train Accuracy: 0.9836363636363636\n",
      "Ensemble Validation Accuracy: 0.9466666666666667\n",
      "Ensemble Test Accuracy: 0.96\n"
     ]
    }
   ],
   "source": [
    "from sklearn.ensemble import GradientBoostingClassifier\n",
    "from sklearn.linear_model import LogisticRegression\n",
    "from sklearn.tree import DecisionTreeClassifier\n",
    "from sklearn.naive_bayes import GaussianNB\n",
    "from sklearn.ensemble import AdaBoostClassifier\n",
    "# from xgboost import XGBClassifier\n",
    "from sklearn.ensemble import RandomForestClassifier, VotingClassifier\n",
    "from sklearn.svm import SVC\n",
    "from sklearn.neighbors import KNeighborsClassifier\n",
    "from sklearn.metrics import accuracy_score\n",
    "from sklearn.preprocessing import StandardScaler\n",
    "\n",
    "model = load_model('../SEED/model.h5')  \n",
    "\n",
    "# intermediate_layer_model = Model(inputs=saved_model.input, outputs=saved_model.get_layer('this_layer').output)\n",
    "\n",
    "# # Feature extraction using the provided model\n",
    "# train_features = intermediate_layer_model.predict(train_images)\n",
    "# val_features = intermediate_layer_model.predict(val_images)\n",
    "# test_features = intermediate_layer_model.predict(test_images)\n",
    "\n",
    "# train_features = Flatten()(train_features)\n",
    "# val_features = Flatten()(val_features)\n",
    "# test_features = Flatten()(test_features)\n",
    "\n",
    "train_features = model.predict(train_data)\n",
    "val_features = model.predict(final_test)\n",
    "test_features = model.predict(test_data)\n",
    "\n",
    "\n",
    "# Standardize features (important for SVM and k-NN)\n",
    "scaler = StandardScaler()\n",
    "train_features_std = scaler.fit_transform(train_features)\n",
    "val_features_std = scaler.transform(val_features)\n",
    "test_features_std = scaler.transform(test_features)\n",
    "\n",
    "# Initialize classifiers\n",
    "rf_classifier = RandomForestClassifier(n_estimators=1000, random_state=42)\n",
    "svm_classifier = SVC(kernel='linear', probability=True, random_state=42)\n",
    "knn_classifier = KNeighborsClassifier(n_neighbors=5)\n",
    "\n",
    "# Additional classifiers\n",
    "gb_classifier = GradientBoostingClassifier(random_state=42)\n",
    "logistic_classifier = LogisticRegression(random_state=42)\n",
    "decision_tree_classifier = DecisionTreeClassifier(random_state=42)\n",
    "naive_bayes_classifier = GaussianNB()\n",
    "adaboost_classifier = AdaBoostClassifier(random_state=42)\n",
    "# xgboost_classifier = XGBClassifier(random_state=42)\n",
    "\n",
    "\n",
    "\n",
    "\n",
    "# Create a voting ensemble\n",
    "ensemble_model = VotingClassifier(estimators=[\n",
    "    ('random_forest', rf_classifier),\n",
    "    ('svm', svm_classifier),\n",
    "    ('knn', knn_classifier),\n",
    "    ('gradient_boosting', gb_classifier),\n",
    "#     ('logistic_regression', logistic_classifier),\n",
    "#     ('decision_tree', decision_tree_classifier),\n",
    "#     ('naive_bayes', naive_bayes_classifier),\n",
    "    ('adaboost', adaboost_classifier),\n",
    "    # ('xgboost', xgboost_classifier)\n",
    "], voting='soft')  # 'soft' for probability voting\n",
    "\n",
    "\n",
    "# Train the ensemble model\n",
    "ensemble_model.fit(train_features_std, train_labels)\n",
    "\n",
    "# Evaluate on validation set\n",
    "ensemble_train_preds = ensemble_model.predict(train_features_std)\n",
    "train_accuracy = accuracy_score(train_labels, ensemble_train_preds)\n",
    "print('Ensemble Train Accuracy:', train_accuracy)\n",
    "\n",
    "# Evaluate on validation set\n",
    "ensemble_val_preds = ensemble_model.predict(val_features_std)\n",
    "val_accuracy = accuracy_score(final_labels, ensemble_val_preds)\n",
    "print('Ensemble Validation Accuracy:', val_accuracy)\n",
    "\n",
    "\n",
    "# Evaluate on validation set\n",
    "ensemble_test_preds = ensemble_model.predict(test_features_std)\n",
    "test_accuracy = accuracy_score(test_labels, ensemble_test_preds)\n",
    "print('Ensemble Test Accuracy:', test_accuracy)"
   ]
  },
  {
   "cell_type": "code",
   "execution_count": null,
   "metadata": {},
   "outputs": [],
   "source": [
    "from sklearn.ensemble import GradientBoostingClassifier\n",
    "from sklearn.linear_model import LogisticRegression\n",
    "from sklearn.tree import DecisionTreeClassifier\n",
    "from sklearn.naive_bayes import GaussianNB\n",
    "from sklearn.ensemble import AdaBoostClassifier\n",
    "from sklearn.ensemble import RandomForestClassifier, VotingClassifier\n",
    "from sklearn.svm import SVC\n",
    "from sklearn.neighbors import KNeighborsClassifier\n",
    "from sklearn.metrics import accuracy_score\n",
    "from sklearn.preprocessing import StandardScaler\n",
    "from tensorflow.keras.models import load_model\n",
    "\n",
    "# Load the model\n",
    "model = load_model('../Conf 1/model_DE.h5')\n",
    "\n",
    "# Feature extraction using the provided model\n",
    "train_features = model.predict(train_data)\n",
    "val_features = model.predict(final_test)\n",
    "test_features = model.predict(test_data)\n",
    "\n",
    "# Standardize features (important for SVM and k-NN)\n",
    "scaler = StandardScaler()\n",
    "train_features_std = scaler.fit_transform(train_features)\n",
    "val_features_std = scaler.transform(val_features)\n",
    "test_features_std = scaler.transform(test_features)\n",
    "\n",
    "# Initialize classifiers\n",
    "svm_classifier = SVC(kernel='linear', probability=True, random_state=42)\n",
    "knn_classifier = KNeighborsClassifier(n_neighbors=5)\n",
    "decision_tree_classifier = DecisionTreeClassifier(random_state=42)\n",
    "naive_bayes_classifier = GaussianNB()\n",
    "\n",
    "# Create a voting ensemble with only SVM, KNN, Decision Tree, and Naive Bayes\n",
    "ensemble_model = VotingClassifier(estimators=[\n",
    "    ('svm', svm_classifier),\n",
    "    ('knn', knn_classifier),\n",
    "    ('decision_tree', decision_tree_classifier),\n",
    "    ('naive_bayes', naive_bayes_classifier),\n",
    "], voting='soft')  # 'soft' for probability voting\n",
    "\n",
    "# Train the ensemble model\n",
    "ensemble_model.fit(train_features_std, train_labels)\n",
    "\n",
    "# Evaluate on the training set\n",
    "ensemble_train_preds = ensemble_model.predict(train_features_std)\n",
    "train_accuracy = accuracy_score(train_labels, ensemble_train_preds)\n",
    "print('Ensemble Train Accuracy:', train_accuracy)\n",
    "\n",
    "# Evaluate on the validation set\n",
    "ensemble_val_preds = ensemble_model.predict(val_features_std)\n",
    "val_accuracy = accuracy_score(final_labels, ensemble_val_preds)\n",
    "print('Ensemble Validation Accuracy:', val_accuracy)\n",
    "\n",
    "# Evaluate on the test set\n",
    "ensemble_test_preds = ensemble_model.predict(test_features_std)\n",
    "test_accuracy = accuracy_score(test_labels, ensemble_test_preds)\n",
    "print('Ensemble Test Accuracy:', test_accuracy)\n"
   ]
  },
  {
   "cell_type": "code",
   "execution_count": 111,
   "metadata": {},
   "outputs": [
    {
     "name": "stdout",
     "output_type": "stream",
     "text": [
      "18/18 [==============================] - 12s 634ms/step\n",
      "3/3 [==============================] - 2s 456ms/step\n",
      "2/2 [==============================] - 1s 400ms/step\n"
     ]
    }
   ],
   "source": [
    "from keras.models import load_model, Model\n",
    "\n",
    "# Load the model\n",
    "model = load_model('../Conf 1/model_DE.h5')\n",
    "intermediate_layer_model = Model(inputs=model.input, outputs=model.output)\n",
    "# # Feature extraction using the provided model\n",
    "train_features = intermediate_layer_model.predict(train_data)\n",
    "val_features = intermediate_layer_model.predict(final_test)\n",
    "test_features = intermediate_layer_model.predict(test_data)\n",
    "\n",
    "# train_features = Flatten()(train_features)\n",
    "# val_features = Flatten()(val_features)\n",
    "# test_features = Flatten()(test_features)"
   ]
  },
  {
   "cell_type": "code",
   "execution_count": 112,
   "metadata": {},
   "outputs": [],
   "source": [
    "scaler = StandardScaler()\n",
    "train_features_std = scaler.fit_transform(train_features)\n",
    "val_features_std = scaler.transform(val_features)\n",
    "test_features_std = scaler.transform(test_features)"
   ]
  },
  {
   "cell_type": "code",
   "execution_count": 149,
   "metadata": {},
   "outputs": [
    {
     "name": "stdout",
     "output_type": "stream",
     "text": [
      "Ensemble Train Accuracy: 0.98\n",
      "Ensemble Validation Accuracy: 1.0\n",
      "Ensemble Test Accuracy: 0.96\n"
     ]
    }
   ],
   "source": [
    "# Initialize classifiers with the best parameters\n",
    "svm_classifier = SVC(C=0.1, kernel='linear', degree=2, probability=True, random_state=42)\n",
    "knn_classifier = KNeighborsClassifier(n_neighbors=17)\n",
    "decision_tree_classifier = DecisionTreeClassifier(random_state=42)\n",
    "naive_bayes_classifier = GaussianNB()\n",
    "from sklearn.ensemble import RandomForestClassifier\n",
    "\n",
    "# Create a voting ensemble with SVM, k-NN, Decision Tree, and Naive Bayes\n",
    "ensemble_model = VotingClassifier(estimators=[\n",
    "    ('svm', svm_classifier),\n",
    "    ('knn', knn_classifier),\n",
    "    ('decision_tree', decision_tree_classifier),\n",
    "    #('naive_bayes', naive_bayes_classifier),\n",
    "    ('random_forest', RandomForestClassifier(random_state=42)),  # Add Random Forest\n",
    "], voting='soft')  # 'soft' for probability voting\n",
    "\n",
    "# Train the ensemble model\n",
    "ensemble_model.fit(train_features_std, train_labels)\n",
    "\n",
    "# Evaluate on the training set\n",
    "ensemble_train_preds = ensemble_model.predict(train_features_std)\n",
    "train_accuracy = accuracy_score(train_labels, ensemble_train_preds)\n",
    "print('Ensemble Train Accuracy:', train_accuracy)\n",
    "\n",
    "# Evaluate on the validation set\n",
    "ensemble_val_preds = ensemble_model.predict(val_features_std)\n",
    "val_accuracy = accuracy_score(final_labels, ensemble_val_preds)\n",
    "print('Ensemble Validation Accuracy:', val_accuracy)\n",
    "\n",
    "# Evaluate on the test set\n",
    "ensemble_test_preds = ensemble_model.predict(test_features_std)\n",
    "test_accuracy = accuracy_score(test_labels, ensemble_test_preds)\n",
    "print('Ensemble Test Accuracy:', test_accuracy)"
   ]
  },
  {
   "cell_type": "code",
   "execution_count": 150,
   "metadata": {},
   "outputs": [],
   "source": [
    "ensemble_test_preds\n",
    "c_ensemble_test_preds = to_categorical(ensemble_test_preds, 3)"
   ]
  },
  {
   "cell_type": "code",
   "execution_count": 151,
   "metadata": {},
   "outputs": [],
   "source": [
    "test_labels\n",
    "c_test_labels = to_categorical(test_labels, 3)"
   ]
  },
  {
   "cell_type": "code",
   "execution_count": 155,
   "metadata": {},
   "outputs": [
    {
     "data": {
      "image/png": "[encoded data removed]",
      "text/plain": [
       "<Figure size 800x600 with 1 Axes>"
      ]
     },
     "metadata": {},
     "output_type": "display_data"
    }
   ],
   "source": [
    "from sklearn.metrics import roc_curve, auc\n",
    "import matplotlib.pyplot as plt\n",
    "\n",
    "# Assuming ensemble_val_preds is a matrix of predicted probabilities\n",
    "# where each row corresponds to a sample, and each column corresponds to a class\n",
    "\n",
    "# Compute ROC curve and ROC area for each class\n",
    "fpr = dict()\n",
    "tpr = dict()\n",
    "roc_auc = dict()\n",
    "\n",
    "for i in range(3):\n",
    "    fpr[i], tpr[i], _ = roc_curve(c_test_labels[:, i], c_ensemble_test_preds[:, i])\n",
    "    roc_auc[i] = auc(fpr[i], tpr[i])\n",
    "\n",
    "# Plot ROC curve for each class\n",
    "plt.figure(figsize=(8, 6))\n",
    "\n",
    "for i in range(3):\n",
    "    plt.plot(fpr[i], tpr[i], label=f'Class {i} (AUC = {roc_auc[i]:.2f})')\n",
    "\n",
    "plt.plot([0, 1], [0, 1], 'k--', lw=2)\n",
    "plt.xlim([0.0, 1.0])\n",
    "plt.ylim([0.0, 1.05])\n",
    "plt.xlabel('False Positive Rate')\n",
    "plt.ylabel('True Positive Rate')\n",
    "plt.title('Receiver Operating Characteristic (ROC) Curve for Multiclass Classification')\n",
    "plt.legend(loc=\"lower right\")\n",
    "plt.savefig(\"ROC-AUC-ensemble_1.png\", dpi=300)\n",
    "plt.show()\n"
   ]
  },
  {
   "cell_type": "code",
   "execution_count": 153,
   "metadata": {},
   "outputs": [
    {
     "name": "stdout",
     "output_type": "stream",
     "text": [
      "Classification Report:\n",
      "              precision    recall  f1-score   support\n",
      "\n",
      "        -1.0       0.94      1.00      0.97        17\n",
      "         0.0       0.93      0.93      0.93        14\n",
      "         1.0       1.00      0.95      0.97        19\n",
      "\n",
      "    accuracy                           0.96        50\n",
      "   macro avg       0.96      0.96      0.96        50\n",
      "weighted avg       0.96      0.96      0.96        50\n",
      "\n"
     ]
    }
   ],
   "source": [
    "from sklearn.metrics import classification_report\n",
    "\n",
    "# Classification report for the test set\n",
    "class_report = classification_report(test_labels, ensemble_test_preds)\n",
    "\n",
    "# Print the classification report\n",
    "print('Classification Report:')\n",
    "print(class_report)\n"
   ]
  },
  {
   "cell_type": "code",
   "execution_count": 156,
   "metadata": {},
   "outputs": [
    {
     "data": {
      "image/png": "[encoded data removed]",
      "text/plain": [
       "<Figure size 800x600 with 1 Axes>"
      ]
     },
     "metadata": {},
     "output_type": "display_data"
    }
   ],
   "source": [
    "import seaborn as sns\n",
    "import matplotlib.pyplot as plt\n",
    "from sklearn.metrics import confusion_matrix\n",
    "\n",
    "# Assuming you have the test features standardized (test_features_std) and test labels (test_labels)\n",
    "# Replace \"your_test_features_std\" and \"your_test_labels\" with your actual test data\n",
    "your_test_features_std = test_features_std  # Replace with your actual test features\n",
    "your_test_labels = test_labels  # Replace with your actual test labels\n",
    "\n",
    "# Make predictions using the ensemble model\n",
    "ensemble_test_preds = ensemble_model.predict(your_test_features_std)\n",
    "\n",
    "# Compute the confusion matrix\n",
    "conf_matrix = confusion_matrix(your_test_labels, ensemble_test_preds)\n",
    "\n",
    "# Plot the confusion matrix using Seaborn\n",
    "plt.figure(figsize=(8, 6))\n",
    "sns.heatmap(conf_matrix, annot=True, fmt='d', cmap='Blues', cbar=False,\n",
    "            xticklabels=['Class 0', 'Class 1'], yticklabels=['Class 0', 'Class 1'])\n",
    "plt.xlabel('Predicted')\n",
    "plt.ylabel('Actual')\n",
    "plt.title('Confusion Matrix')\n",
    "plt.savefig(\"confusion_matrix_ensemble_1.png\", dpi=300)\n",
    "plt.show()\n"
   ]
  },
  {
   "cell_type": "code",
   "execution_count": null,
   "metadata": {},
   "outputs": [],
   "source": []
  }
 ],
 "metadata": {
  "kernelspec": {
   "display_name": "thesis_code_practice",
   "language": "python",
   "name": "python3"
  },
  "language_info": {
   "codemirror_mode": {
    "name": "ipython",
    "version": 3
   },
   "file_extension": ".py",
   "mimetype": "text/x-python",
   "name": "python",
   "nbconvert_exporter": "python",
   "pygments_lexer": "ipython3",
   "version": "3.10.6"
  }
 },
 "nbformat": 4,
 "nbformat_minor": 2
}
