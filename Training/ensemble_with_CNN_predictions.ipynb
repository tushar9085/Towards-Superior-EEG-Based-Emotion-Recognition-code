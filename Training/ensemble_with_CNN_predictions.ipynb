{
 "cells": [
  {
   "cell_type": "code",
   "execution_count": 1,
   "metadata": {},
   "outputs": [
    {
     "name": "stdout",
     "output_type": "stream",
     "text": [
      "WARNING:tensorflow:From e:\\STUDY\\Publications\\Thesis\\Brain Emotion Detection\\Code Practice\\thesis_code_practice\\lib\\site-packages\\keras\\src\\losses.py:2976: The name tf.losses.sparse_softmax_cross_entropy is deprecated. Please use tf.compat.v1.losses.sparse_softmax_cross_entropy instead.\n",
      "\n"
     ]
    }
   ],
   "source": [
    "import numpy as np\n",
    "import pandas as pd\n",
    "import tensorflow as tf\n",
    "from tensorflow import keras\n",
    "import numpy as np\n",
    "import scipy.io as sio\n",
    "from tensorflow.keras.utils import to_categorical\n",
    "from keras.callbacks import ReduceLROnPlateau\n",
    "import sklearn.metrics\n",
    "from sklearn.utils import shuffle \n",
    "from tensorflow.keras.layers import LSTM\n",
    "from tensorflow.keras.layers import Reshape\n",
    "from tensorflow.keras.models import Sequential\n",
    "from tensorflow.keras.layers import Conv2D, MaxPooling2D, Dense, Flatten, Dropout, Conv3D, MaxPooling3D, BatchNormalization\n",
    "import matplotlib.pyplot as plt\n",
    "from keras.models import load_model\n",
    "\n",
    "\n",
    "from sklearn.ensemble import VotingClassifier\n",
    "from sklearn.svm import SVC\n",
    "from sklearn.neighbors import KNeighborsClassifier\n",
    "from sklearn.tree import DecisionTreeClassifier\n",
    "from sklearn.naive_bayes import GaussianNB\n",
    "from sklearn.metrics import accuracy_score\n",
    "from sklearn.preprocessing import StandardScaler\n",
    "from tensorflow.keras.models import load_model"
   ]
  },
  {
   "cell_type": "code",
   "execution_count": 2,
   "metadata": {},
   "outputs": [],
   "source": [
    "data  = np.load(\"E:/STUDY/Publications/Thesis/Brain Emotion Detection/Dataset/Practice with datasets/Seed/de_LDS_Extracted/Shuffled X y/shuffled_data.npy\")\n",
    "labels_edited  = np.load(\"E:/STUDY/Publications/Thesis/Brain Emotion Detection/Dataset/Practice with datasets/Seed/de_LDS_Extracted/Shuffled X y/shuffled_labels.npy\")"
   ]
  },
  {
   "cell_type": "code",
   "execution_count": 3,
   "metadata": {},
   "outputs": [
    {
     "name": "stdout",
     "output_type": "stream",
     "text": [
      "Unique: [0. 1. 2.], Counts: [25 25 25]\n"
     ]
    }
   ],
   "source": [
    "max = np.max(data)\n",
    "min = np.min(data)\n",
    "\n",
    "#Normalizing data\n",
    "data = data/max\n",
    "data = (data - np.mean(data))/np.std(data)\n",
    "\n",
    "\n",
    "#Splitting Dataset into train, validation, test \n",
    "train_labels = labels_edited[0:550]\n",
    "test_labels = labels_edited[550:600]\n",
    "final_labels = labels_edited[600:675]\n",
    "\n",
    "train_data = data[0:550]\n",
    "test_data = data[550:600]\n",
    "final_test = data[600:675]\n",
    "\n",
    "\n",
    "\n",
    "cf_labels = np.where(final_labels== -1, 2, final_labels) #Label in the form for confusion matrix\n",
    "un, co = np.unique(cf_labels, return_counts=True)\n",
    "print(f'Unique: {un}, Counts: {co}')"
   ]
  },
  {
   "cell_type": "code",
   "execution_count": 13,
   "metadata": {},
   "outputs": [],
   "source": [
    "train_labels_reshaped = train_labels.reshape(-1,1) #Formatting for input to the CNN model\n",
    "test_labels_reshaped = test_labels.reshape(-1,1)\n",
    "final_labels_reshaped = final_labels.reshape(-1,1)\n",
    "\n",
    "train_labels_reshaped = to_categorical(train_labels_reshaped, 3) #One Hot Encoding\n",
    "test_labels_reshaped = to_categorical(test_labels_reshaped, 3)\n",
    "final_labels_reshaped = to_categorical(final_labels_reshaped, 3)"
   ]
  },
  {
   "cell_type": "markdown",
   "metadata": {},
   "source": [
    "# Load the CNN model and extract"
   ]
  },
  {
   "cell_type": "code",
   "execution_count": 11,
   "metadata": {},
   "outputs": [
    {
     "name": "stdout",
     "output_type": "stream",
     "text": [
      "18/18 [==============================] - 12s 673ms/step\n",
      "2/2 [==============================] - 1s 355ms/step\n"
     ]
    }
   ],
   "source": [
    "from keras.models import load_model, Model\n",
    "\n",
    "# Load the model\n",
    "model = load_model(r'E:\\STUDY\\Publications\\Thesis\\Brain Emotion Detection\\Code Practice\\Conf 1\\version 14\\model.h5')\n",
    "intermediate_layer_model = Model(inputs=model.input, outputs=model.output)\n",
    "\n",
    "# # Feature extraction using the provided model\n",
    "train_features = intermediate_layer_model.predict(train_data)\n",
    "test_features = intermediate_layer_model.predict(test_data)\n",
    "\n",
    "# train_features = Flatten()(train_features)\n",
    "# val_features = Flatten()(val_features)\n",
    "# test_features = Flatten()(test_features)"
   ]
  },
  {
   "cell_type": "code",
   "execution_count": 15,
   "metadata": {},
   "outputs": [],
   "source": [
    "from keras.models import load_model\n",
    "\n",
    "# Load the model\n",
    "model = load_model(r'E:\\STUDY\\Publications\\Thesis\\Brain Emotion Detection\\Code Practice\\Conf 1\\version 14\\model.h5')\n",
    "\n"
   ]
  },
  {
   "cell_type": "code",
   "execution_count": 17,
   "metadata": {},
   "outputs": [
    {
     "name": "stdout",
     "output_type": "stream",
     "text": [
      "Training Accuracy: 95.82%\n",
      "Test Accuracy: 89.33%\n"
     ]
    }
   ],
   "source": [
    "# Evaluate the model on the training data\n",
    "evaluation_result_train = model.evaluate(train_data, train_labels_reshaped, verbose=0)\n",
    "train_loss = evaluation_result_train[0]\n",
    "train_accuracy = evaluation_result_train[1]\n",
    "\n",
    "print(f'Training Accuracy: {train_accuracy * 100:.2f}%')\n",
    "\n",
    "# Evaluate the model on the test data\n",
    "evaluation_result_test = model.evaluate(final_test, final_labels_reshaped, verbose=0)\n",
    "test_loss = evaluation_result_test[0]\n",
    "test_accuracy = evaluation_result_test[1]\n",
    "\n",
    "print(f'Test Accuracy: {test_accuracy * 100:.2f}%')"
   ]
  },
  {
   "cell_type": "code",
   "execution_count": 6,
   "metadata": {},
   "outputs": [
    {
     "name": "stdout",
     "output_type": "stream",
     "text": [
      "18/18 [==============================] - 11s 610ms/step\n",
      "3/3 [==============================] - 2s 463ms/step\n"
     ]
    }
   ],
   "source": [
    "train_features = model.predict(train_data)\n",
    "test_features = model.predict(final_test)"
   ]
  },
  {
   "cell_type": "code",
   "execution_count": 7,
   "metadata": {},
   "outputs": [],
   "source": [
    "scaler = StandardScaler()\n",
    "train_features_std = scaler.fit_transform(train_features)\n",
    "test_features_std = scaler.transform(test_features)"
   ]
  },
  {
   "cell_type": "code",
   "execution_count": 8,
   "metadata": {},
   "outputs": [
    {
     "name": "stdout",
     "output_type": "stream",
     "text": [
      "Ensemble Test Accuracy: 0.9333333333333333\n",
      "Ensemble model with accuracy greater than 92 is trained.\n"
     ]
    }
   ],
   "source": [
    "from sklearn.svm import SVC\n",
    "from sklearn.neighbors import KNeighborsClassifier\n",
    "from sklearn.ensemble import RandomForestClassifier, VotingClassifier\n",
    "from sklearn.tree import DecisionTreeClassifier\n",
    "from sklearn.metrics import accuracy_score\n",
    "from sklearn.preprocessing import StandardScaler\n",
    "\n",
    "# Create a voting ensemble with uninitialized classifiers\n",
    "ensemble_model = VotingClassifier(estimators=[\n",
    "    ('svm', SVC(probability=True, random_state=42)),\n",
    "    ('knn', KNeighborsClassifier()),\n",
    "    ('rf', RandomForestClassifier(random_state=42)),\n",
    "    ('dt', DecisionTreeClassifier(random_state=42)),\n",
    "], voting='soft')  # 'soft' for probability voting\n",
    "\n",
    "# Train the ensemble model\n",
    "ensemble_model.fit(train_features_std, train_labels)\n",
    "\n",
    "# Evaluate on the test set\n",
    "ensemble_test_preds = ensemble_model.predict(test_features_std)\n",
    "test_accuracy = accuracy_score(final_labels, ensemble_test_preds)\n",
    "print('Ensemble Test Accuracy:', test_accuracy)\n",
    "\n",
    "# Check if the ensemble accuracy is greater than 92\n",
    "if test_accuracy > 0.92:\n",
    "    print(\"Ensemble model with accuracy greater than 92 is trained.\")\n",
    "else:\n",
    "    print(\"Ensemble model does not meet the desired accuracy threshold.\")"
   ]
  }
 ],
 "metadata": {
  "kernelspec": {
   "display_name": "thesis_code_practice",
   "language": "python",
   "name": "python3"
  },
  "language_info": {
   "codemirror_mode": {
    "name": "ipython",
    "version": 3
   },
   "file_extension": ".py",
   "mimetype": "text/x-python",
   "name": "python",
   "nbconvert_exporter": "python",
   "pygments_lexer": "ipython3",
   "version": "3.10.6"
  }
 },
 "nbformat": 4,
 "nbformat_minor": 2
}
